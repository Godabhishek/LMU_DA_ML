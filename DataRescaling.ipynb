{
 "cells": [
  {
   "cell_type": "markdown",
   "metadata": {},
   "source": [
    "# Standardization"
   ]
  },
  {
   "cell_type": "markdown",
   "metadata": {},
   "source": [
    "Most features in our data are just numbers without units attached to them. However, giving a length in [cm or inch][1] will give different values and thus different outputs when feeding these numbers e.g. to a neural network. In addition, the values of different features may cover completely different natural ranges. This may have a large effect on the performance of machine learning models, because if a feature has a variance that is orders of magnitude larger than others, it might dominate the objective function and make the estimator unable to learn from other features correctly.\n",
    "The `sklean` documentation provides further information on [preprocessing of data][2].\n",
    "\n",
    "[1]: https://en.wikipedia.org/wiki/Mars_Climate_Orbiter#Cause_of_failure\n",
    "[2]: https://scikit-learn.org/stable/modules/preprocessing.html"
   ]
  },
  {
   "cell_type": "markdown",
   "metadata": {},
   "source": [
    "Some algorithms will be more susceptible to the scaling of the data than others. \n",
    "Neural networks expect all input features to vary in a similar way, and ideally to look like standard normally distributed data, i.e. Gaussian with zero mean and unit variance.\n",
    "BDTs that just apply `if` statements on the features are typically very robust."
   ]
  },
  {
   "cell_type": "markdown",
   "metadata": {},
   "source": [
    "### Example\n",
    "One example that illustrates the importance of preprocessing the data to rescale feature values to \"standard ranges\" is the application of SVMs to the `sklearn`'s cancer dataset:"
   ]
  },
  {
   "cell_type": "code",
   "execution_count": null,
   "metadata": {},
   "outputs": [],
   "source": [
    "# import SVC and load data\n",
    "from sklearn.svm import SVC\n",
    "from sklearn.datasets import load_breast_cancer\n",
    "from sklearn.model_selection import train_test_split\n",
    "\n",
    "cancer = load_breast_cancer()\n",
    "X_train, X_test, y_train, y_test = train_test_split(\n",
    "    cancer.data, cancer.target, random_state=0)"
   ]
  },
  {
   "cell_type": "markdown",
   "metadata": {},
   "source": [
    "The features in this dataset have very different ranges as illustrated by the following plot."
   ]
  },
  {
   "cell_type": "code",
   "execution_count": 44,
   "metadata": {},
   "outputs": [
    {
     "data": {
      "image/png": "[encoded data removed]",
      "text/plain": [
       "<Figure size 432x288 with 1 Axes>"
      ]
     },
     "metadata": {
      "needs_background": "light"
     },
     "output_type": "display_data"
    }
   ],
   "source": [
    "# plot features\n",
    "import matplotlib.pyplot as plt\n",
    "plt.boxplot(cancer.data, whis = \"range\")\n",
    "plt.xlabel(\"feature\")\n",
    "plt.yscale(\"log\")"
   ]
  },
  {
   "cell_type": "code",
   "execution_count": 11,
   "metadata": {},
   "outputs": [
    {
     "data": {
      "text/plain": [
       "0.6293706293706294"
      ]
     },
     "execution_count": 11,
     "metadata": {},
     "output_type": "execute_result"
    }
   ],
   "source": [
    "# fit data without rescaling\n",
    "svm = SVC()\n",
    "svm.fit(X_train, y_train).score(X_test, y_test)"
   ]
  },
  {
   "cell_type": "code",
   "execution_count": 15,
   "metadata": {},
   "outputs": [
    {
     "data": {
      "text/plain": [
       "0.951048951048951"
      ]
     },
     "execution_count": 15,
     "metadata": {},
     "output_type": "execute_result"
    }
   ],
   "source": [
    "# now rescale the features and retrain\n",
    "from sklearn.preprocessing import MinMaxScaler\n",
    "# compute minimum and maximum on the training data\n",
    "# note that we must train the scaler only on the training data (but not the full dataset)\n",
    "scaler = MinMaxScaler().fit(X_train)\n",
    "# rescale the training data\n",
    "X_train_scaled = scaler.transform(X_train)\n",
    "X_test_scaled  = scaler.transform(X_test)\n",
    "# retrain\n",
    "svm.fit(X_train_scaled, y_train).score(X_test_scaled, y_test)"
   ]
  },
  {
   "cell_type": "code",
   "execution_count": 20,
   "metadata": {},
   "outputs": [
    {
     "name": "stdout",
     "output_type": "stream",
     "text": [
      "Score using unscaled data: 0.9300699300699301\n",
      "Score using rescaled data: 0.965034965034965\n"
     ]
    }
   ],
   "source": [
    "# same effect (although much smaller) e.g. on MLP\n",
    "from sklearn.neural_network import MLPClassifier\n",
    "mlp = MLPClassifier(max_iter=1000, random_state=0)\n",
    "print \"Score using unscaled data:\", mlp.fit(X_train, y_train).score(X_test, y_test)\n",
    "print \"Score using rescaled data:\", mlp.fit(X_train_scaled, y_train).score(X_test_scaled, y_test)"
   ]
  },
  {
   "cell_type": "code",
   "execution_count": 22,
   "metadata": {},
   "outputs": [
    {
     "name": "stdout",
     "output_type": "stream",
     "text": [
      "Score using unscaled data: 0.8811188811188811\n",
      "Score using rescaled data: 0.8811188811188811\n"
     ]
    }
   ],
   "source": [
    "# no effect e.g. on BDT\n",
    "from sklearn.tree import DecisionTreeClassifier\n",
    "dt = DecisionTreeClassifier(random_state=0)\n",
    "print \"Score using unscaled data:\", dt.fit(X_train, y_train).score(X_test, y_test)\n",
    "print \"Score using rescaled data:\", dt.fit(X_train_scaled, y_train).score(X_test_scaled, y_test)"
   ]
  },
  {
   "cell_type": "markdown",
   "metadata": {},
   "source": [
    "### Example II"
   ]
  },
  {
   "cell_type": "markdown",
   "metadata": {},
   "source": [
    "Large features values may also lead to convergence issues."
   ]
  },
  {
   "cell_type": "code",
   "execution_count": 34,
   "metadata": {},
   "outputs": [
    {
     "data": {
      "image/png": "[encoded data removed]",
      "text/plain": [
       "<Figure size 432x288 with 1 Axes>"
      ]
     },
     "metadata": {
      "needs_background": "light"
     },
     "output_type": "display_data"
    }
   ],
   "source": [
    "import numpy as np\n",
    "import matplotlib.pyplot as plt\n",
    "\n",
    "np.random.seed(85)\n",
    "nsamples = 50\n",
    "pops     = 2\n",
    "yshift   = 0.5\n",
    "yscale   = 100 # <- change this\n",
    "noise    = 0.3\n",
    "\n",
    "### helpers\n",
    "def MakeXYcorrSample(x0 = 0, y0 = 0, noise = noise, yscale = yscale, pops = pops, yshift = yshift):\n",
    "  # space\n",
    "  X = np.zeros((nsamples * pops, 2))\n",
    "  y = np.zeros(nsamples * pops)\n",
    "  # fill\n",
    "  X[:, 0] = x0 + np.random.rand(nsamples * pops)\n",
    "  for n in range(pops):\n",
    "    X[n*nsamples:(n+1)*nsamples, 1] = yscale * (y0 + X[n*nsamples:(n+1)*nsamples, 0] - noise/2. + noise * np.random.rand(nsamples) + n*yshift)\n",
    "    y[n*nsamples:(n+1)*nsamples] = n\n",
    "  return X, y\n",
    "\n",
    "### make and plot dataset\n",
    "X, y = MakeXYcorrSample()\n",
    "for pop in range(pops):\n",
    "  plt.scatter(*X[y == pop,0:2].T)"
   ]
  },
  {
   "cell_type": "code",
   "execution_count": 35,
   "metadata": {},
   "outputs": [
    {
     "name": "stdout",
     "output_type": "stream",
     "text": [
      "Score on training data: 0.9733333333333334\n",
      "Score on validation data: 0.92\n"
     ]
    },
    {
     "data": {
      "image/png": "[encoded data removed]",
      "text/plain": [
       "<Figure size 432x288 with 1 Axes>"
      ]
     },
     "metadata": {
      "needs_background": "light"
     },
     "output_type": "display_data"
    }
   ],
   "source": [
    "### prepare data\n",
    "from sklearn.model_selection import train_test_split\n",
    "X_train, X_test, y_train, y_test = train_test_split(X, y)\n",
    "\n",
    "### fit\n",
    "from sklearn.svm import LinearSVC\n",
    "\n",
    "model = LinearSVC().fit(X_train, y_train)\n",
    "\n",
    "print \"Score on training data:\", model.score(X_train, y_train)\n",
    "print \"Score on validation data:\", model.score(X_test, y_test)\n",
    "\n",
    "### visualize\n",
    "for pop in range(pops):\n",
    "  plt.scatter(*X[y == pop,0:2].T)\n",
    "if \"coef_\" in dir(model):\n",
    "  eps = 0.1\n",
    "  x_min, x_max = X[:, 0].min() - eps, X[:, 0].max() + eps\n",
    "  y_min, y_max = X[:, 1].min() - eps, X[:, 1].max() + eps  \n",
    "  xx = np.linspace(x_min, x_max, 1000)\n",
    "  yy = np.linspace(y_min, y_max, 1000)\n",
    "  X1, X2 = np.meshgrid(xx, yy)\n",
    "  X_grid = np.c_[X1.ravel(), X2.ravel()]\n",
    "  decision_values = model.predict(X_grid)\n",
    "  from matplotlib.colors import ListedColormap\n",
    "  plt.gca().imshow(decision_values.reshape(X1.shape), extent=(x_min, x_max, y_min, y_max), aspect='auto', origin='lower', alpha=0.5, cmap = ListedColormap(['#0000aa', '#ff2020', '#50ff50']))\n",
    "  #\n",
    "  line = np.linspace(0, 1)\n",
    "  for coef, intercept in zip(model.coef_, model.intercept_):\n",
    "    ax = plt.plot(line, -(line * coef[0] + intercept) / coef[1])"
   ]
  },
  {
   "cell_type": "code",
   "execution_count": null,
   "metadata": {},
   "outputs": [],
   "source": []
  }
 ],
 "metadata": {
  "kernelspec": {
   "display_name": "Python 2",
   "language": "python",
   "name": "python2"
  },
  "language_info": {
   "codemirror_mode": {
    "name": "ipython",
    "version": 2
   },
   "file_extension": ".py",
   "mimetype": "text/x-python",
   "name": "python",
   "nbconvert_exporter": "python",
   "pygments_lexer": "ipython2",
   "version": "2.7.12"
  }
 },
 "nbformat": 4,
 "nbformat_minor": 2
}
