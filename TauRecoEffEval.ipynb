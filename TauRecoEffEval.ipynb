{
 "cells": [
  {
   "cell_type": "markdown",
   "metadata": {},
   "source": [
    "## ML Course Challenge\n",
    "### Predicting reconstruction efficiencies for tau leptons\n",
    "This is a physics-inspired challenge where your task is to make the best possible predictions for the probability that a certain particle, a tau lepton, will be correctly reconstructed in the detector. We simulated a lot (hundred of thousands) of collisions of a proton with another proton, where in each of these events, a small number of tau leptons (1, 2, or 3) is produced. Unfortunately, it is quite difficult to detect (\"reconstruct\") the presence of a tau lepton in a particle detector, as they decay before they have a chance to interact with the detector. We thus only see the decay products of the tau leptons, and from this only slightly more than half of the tau leptons is actually reconstructed as a tau lepton.\n",
    "\n",
    "The probability that a given true tau lepton is reconstructed (\"reconstruction efficiency\") depends on its properties: how much energy is has and where it hits our detector. The goal in this challenge is to predict this probability. \n",
    "\n",
    "This seems like a nice opportunity to practice our newly learned skills in data analysis and machine learning! Let's get to work..."
   ]
  },
  {
   "cell_type": "code",
   "execution_count": null,
   "metadata": {},
   "outputs": [],
   "source": [
    "### imports\n",
    "import numpy as np\n",
    "import pandas as pd"
   ]
  },
  {
   "cell_type": "code",
   "execution_count": null,
   "metadata": {},
   "outputs": [],
   "source": [
    "### config\n",
    "path_csv = \"https://cernbox.cern.ch/index.php/s/sLWDkDKVkNmlDuw/download\" # you may want to make a local copy\n",
    "#path_csv = \"output1.csv.gz\""
   ]
  },
  {
   "cell_type": "code",
   "execution_count": null,
   "metadata": {},
   "outputs": [],
   "source": [
    "### load data\n",
    "df = pd.read_csv(path_csv, sep=\";\", compression=\"gzip\", comment = \"#\")\n",
    "df.describe().T"
   ]
  },
  {
   "cell_type": "markdown",
   "metadata": {},
   "source": [
    "There is a lot of input features available in the dataset: (one row = one tau lepton)\n",
    "* `mcChannelNumber`, `eventNumber`: unique identifiers for the dataset and collision event\n",
    "* `N_true_elec`: true number of electrons in the collision event\n",
    "* `N_true_muon`: true number of muons in the collision event\n",
    "* `N_true_taus`: true number of tau leptons in the collision event\n",
    "* `GenWeight`: relative physical probability of this collision event\n",
    "* `MetTST_met`: measured missing transverse momentum in GeV\n",
    "* `truth_pt`: true transverse momentum of the tau lepton in GeV\n",
    "* `truth_eta`, `truth_phi`: true geometrical coordinates of the tau lepton in the detector\n",
    "* `truth_prong`, `truth_neutral`: true number of charged and neutral particles the tau lepton decayed into\n",
    "* `truth_charge`: charge of the tau lepton (in units of the elementary charge of the electron)\n",
    "* `dR_min`: geometrical distance of the tau lepton and its reconstruction (if it has been reconstructed, otherwise 999)\n",
    "* `match_pt`: measured transverse momentum of the tau lepton in GeV (if it has been reconstructed, otherwise -999)\n",
    "* `dR_min_taujet`: geometrical distance of the tau lepton and the closest jet in the detector (if there is a jet, otherwise 999)\n",
    "* `TruthMET_met`: true missing transverse momentum in GeV\n",
    "* `Vtx_n`: number of concurrent proton-proton collisions"
   ]
  },
  {
   "cell_type": "markdown",
   "metadata": {},
   "source": [
    "Notes:\n",
    "* Not all of the above features are suited as input features. \n",
    "* `dR` is defined as $\\Delta R = \\sqrt{\\eta^2 + \\phi^2}$."
   ]
  },
  {
   "cell_type": "markdown",
   "metadata": {},
   "source": [
    "The target feature:\n",
    "* `reco_matched`: 1 if the tau lepton has been reconstructed, otherwise 0\n",
    "\n",
    "Note: This is what we want to predict."
   ]
  },
  {
   "cell_type": "markdown",
   "metadata": {},
   "source": [
    "### Some Examples for Illustration"
   ]
  },
  {
   "cell_type": "code",
   "execution_count": null,
   "metadata": {},
   "outputs": [],
   "source": [
    "### helper function\n",
    "def PrintEff(X, y):\n",
    "    # prints efficiencies in bins of pt and eta\n",
    "    if isinstance(y, np.ndarray):\n",
    "        y = pd.Series(y, name = \"matched\")\n",
    "    # combine pt, eta columns from X with flag whether tau is reconstructed from y\n",
    "    df = pd.concat([X[[\"truth_pt\", \"truth_eta\"]].reset_index(drop = True), y.reset_index(drop = True)], axis=1)\n",
    "    # compute bins \n",
    "    ptbins  = pd.cut(    df[\"truth_pt\"]  , np.linspace(0, 400,  5))\n",
    "    etabins = pd.cut(abs(df[\"truth_eta\"]), np.linspace(0,   3, 10))\n",
    "    # group in bins and print\n",
    "    print(df.groupby([etabins, ptbins])[y.name].mean().unstack())"
   ]
  },
  {
   "cell_type": "markdown",
   "metadata": {},
   "source": [
    "Print the actual efficiencies as function of two of the input features:"
   ]
  },
  {
   "cell_type": "code",
   "execution_count": null,
   "metadata": {},
   "outputs": [],
   "source": [
    "print(\"Actual efficiencies:\")\n",
    "PrintEff(df, df[\"reco_matched\"])"
   ]
  },
  {
   "cell_type": "markdown",
   "metadata": {},
   "source": [
    "---\n",
    "We define a subset of features to learn from -- this you can change:"
   ]
  },
  {
   "cell_type": "code",
   "execution_count": null,
   "metadata": {},
   "outputs": [],
   "source": [
    "input_features = [u'truth_pt', u'truth_eta', u'truth_phi', u'truth_prong', u'dR_min']"
   ]
  },
  {
   "cell_type": "code",
   "execution_count": null,
   "metadata": {},
   "outputs": [],
   "source": [
    "### define training and test datasets\n",
    "from sklearn.model_selection import train_test_split\n",
    "\n",
    "X = df[input_features]\n",
    "y = df[\"reco_matched\"]\n",
    "\n",
    "X_train, X_test, y_train, y_test = train_test_split(\n",
    "  X, y, random_state=42\n",
    ")"
   ]
  },
  {
   "cell_type": "code",
   "execution_count": null,
   "metadata": {},
   "outputs": [],
   "source": [
    "### fit a BDT\n",
    "from sklearn.preprocessing import StandardScaler\n",
    "from sklearn.ensemble import AdaBoostClassifier\n",
    "from sklearn.tree import DecisionTreeClassifier\n",
    "\n",
    "### BDT\n",
    "model = AdaBoostClassifier(DecisionTreeClassifier(max_depth=2),\n",
    "                           algorithm=\"SAMME\",\n",
    "                           n_estimators=500)\n",
    "model.fit(X_train, y_train)\n",
    "print(\"Score:\", model.score(X_test, y_test))"
   ]
  },
  {
   "cell_type": "markdown",
   "metadata": {},
   "source": [
    "A score of 1.0? That's perfect! But is it?"
   ]
  },
  {
   "cell_type": "code",
   "execution_count": null,
   "metadata": {},
   "outputs": [],
   "source": [
    "# for comparison\n",
    "print(\"Actual efficiencies:\")\n",
    "PrintEff(X_test, y_test)\n",
    "\n",
    "print()\n",
    "print(\"Predicted efficiencies:\")\n",
    "PrintEff(X_test, model.predict(X_test))"
   ]
  },
  {
   "cell_type": "markdown",
   "metadata": {},
   "source": [
    "### The Twist\n",
    "What we actually see is that the reconstruction efficiencies depend on the MC dataset number: "
   ]
  },
  {
   "cell_type": "code",
   "execution_count": null,
   "metadata": {},
   "outputs": [],
   "source": [
    "for mcChannelNumber in df[\"mcChannelNumber\"].unique():\n",
    "    df1 = df[df[\"mcChannelNumber\"] == mcChannelNumber]\n",
    "    print()\n",
    "    print(\"Actual efficiencies for dataset number:\", mcChannelNumber)\n",
    "    PrintEff(df1, df1[\"reco_matched\"])"
   ]
  },
  {
   "cell_type": "markdown",
   "metadata": {},
   "source": [
    "The MC dataset numbers correspond to different ways of how the tau leptons are produced (i.e. which particles decay to produce the tau leptons), but the tau leptons themselves are elementary particles (like an electron) and as such have no way to know the process which produced them. In particular there should be no dependence on the MC dataset numbers."
   ]
  },
  {
   "cell_type": "markdown",
   "metadata": {},
   "source": [
    "Thus, the challenge is to predict the reconstruction efficiencies from the input features without using the MC dataset numbers such that they match the actual numbers as closely as possible. \n",
    "\n",
    "The measure we will use is the mean squared difference for the predicted and true efficiencies (in the binning above) on some these and some additional samples as well as possibly the AUC for the prediction of \"reco_matched\" (to be discussed)."
   ]
  },
  {
   "cell_type": "markdown",
   "metadata": {},
   "source": [
    "---\n",
    "Closing with some more convenience functions to test prediction on a particular sample:"
   ]
  },
  {
   "cell_type": "code",
   "execution_count": null,
   "metadata": {},
   "outputs": [],
   "source": [
    "def PredictForChannel(model, X_trained, df, mcChannelNumber):\n",
    "    # test model on channelnumber\n",
    "    columns = X_trained.columns\n",
    "    df1 = df[df[\"mcChannelNumber\"] == mcChannelNumber]\n",
    "    #y_pred = model.predict_proba(df1[columns])[:,1]\n",
    "    y_pred = model.predict(df1[columns])\n",
    "    return df1, y_pred"
   ]
  },
  {
   "cell_type": "code",
   "execution_count": null,
   "metadata": {},
   "outputs": [],
   "source": [
    "PrintEff(*PredictForChannel(model, X_train, df, 397049))"
   ]
  },
  {
   "cell_type": "code",
   "execution_count": null,
   "metadata": {},
   "outputs": [],
   "source": []
  }
 ],
 "metadata": {
  "@webio": {
   "lastCommId": null,
   "lastKernelId": null
  },
  "kernelspec": {
   "display_name": "Python 3",
   "language": "python",
   "name": "python3"
  },
  "language_info": {
   "codemirror_mode": {
    "name": "ipython",
    "version": 3
   },
   "file_extension": ".py",
   "mimetype": "text/x-python",
   "name": "python",
   "nbconvert_exporter": "python",
   "pygments_lexer": "ipython3",
   "version": "3.5.2"
  }
 },
 "nbformat": 4,
 "nbformat_minor": 2
}