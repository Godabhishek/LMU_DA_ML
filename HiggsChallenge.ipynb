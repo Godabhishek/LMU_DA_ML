{
 "cells": [
  {
   "cell_type": "markdown",
   "metadata": {},
   "source": [
    "# Higgs Challenge Example\n",
    "In this part we will look at the **[Higgs Boson ML Challenge](https://www.kaggle.com/c/Higgs-boson)** on Kaggle and attempt a solution using Boosted Decision Trees (BDTs), a popular method in experimental particle physics. \n",
    "\n",
    "* BDTs are based on an ensemble of _weak classifiers_ (decision trees).\n",
    "* Boosting increases the weight of misclassified events. \n",
    "* The data is available from **[CERN Open Data](http://opendata.cern.ch/record/328)**.\n",
    "  * more information about the data is available from the links, and in particular in the accompanying **[documentation](http://opendata.cern.ch/record/329/files/atlas-higgs-challenge-2014.pdf)**.\n",
    "  * much of the description below is taken from this documentation\n",
    "* The general idea is that we want to extract $H\\to\\tau\\tau$ signal from background. \n",
    "  * first channel where coupling of Higgs boson to fermions can be proven (before only coupling to bosons, $\\gamma$, $W$, $Z$)\n",
    "* In particular, the selection requires one of the taus to decay into an electron or muon and two neutrinos, and the other into hadrons and a neutrino. \n",
    "* The challenge is based on Monte Carlo collision events processed through the **[ATLAS detector](http://atlas.cern/)** simulation and reconstruction."
   ]
  },
  {
   "cell_type": "markdown",
   "metadata": {},
   "source": [
    "## LHC and ATLAS\n",
    "* LHC collides bunches of protons every 50 nanoseconds inside ATLAS\n",
    "* In the hard-scattering process, two colliding protons interact and part of the kinetic energy of the protons is converted into new particles.\n",
    "* Most resulting particles are very unstable and decay quickly into a cascade of lighter particles.\n",
    "* ATLAS detector measures the properties of the decay products: type, energy and momentum (3-D direction)\n",
    "* The decay products are identified and reconstructed from the low-level analogue and digital signals they trigger in the detector hardware.\n",
    "* Part of the energy will be converted into and carried away by neutrinos (e.g. from the decay of tau leptons) that cannot be measured, leading to an incomplete event reconstruction.\n",
    "\n",
    "Some event displays that visualize collision events found in real data that show a signature matching a $H\\to\\tau\\tau$ decay can be found on the [public ATLAS page][1]. [This event][2], for example, shows $H\\to\\tau\\tau$ with one tau lepton further decaying leptonically and the other hadronically.\n",
    "\n",
    "[1]: https://twiki.cern.ch/twiki/bin/view/AtlasPublic/EventDisplaysFromHiggsSearches#H_AN1\n",
    "[2]: https://atlas.web.cern.ch/Atlas/GROUPS/PHYSICS/CONFNOTES/ATLAS-CONF-2012-160/figaux_07.png"
   ]
  },
  {
   "cell_type": "markdown",
   "metadata": {},
   "source": [
    "## Basic setup"
   ]
  },
  {
   "cell_type": "code",
   "execution_count": 1,
   "metadata": {},
   "outputs": [],
   "source": [
    "# the usual setup: \n",
    "import pandas as pd\n",
    "import numpy as np\n",
    "import matplotlib.pyplot as plt\n",
    "%matplotlib inline"
   ]
  },
  {
   "cell_type": "code",
   "execution_count": 2,
   "metadata": {},
   "outputs": [
    {
     "data": {
      "text/plain": [
       "818238"
      ]
     },
     "execution_count": 2,
     "metadata": {},
     "output_type": "execute_result"
    }
   ],
   "source": [
    "# load training data\n",
    "df = pd.read_csv('data/atlas-higgs-challenge-2014-v2.csv.gz')\n",
    "len(df)"
   ]
  },
  {
   "cell_type": "markdown",
   "metadata": {},
   "source": [
    "## The Dataset\n",
    "The data contains > 800 k simulated collision events, that were used in the reference [ATLAS analysis][1]:\n",
    "* 250 k for training\n",
    "* 100 k for testing (public leaderboard)\n",
    "* 450 k for testing (private leaderboard)\n",
    "* a small withheld dataset\n",
    "\n",
    "Here, we use the full dataset:\n",
    "\n",
    "[1]: http://cds.cern.ch/record/1632191"
   ]
  },
  {
   "cell_type": "code",
   "execution_count": 3,
   "metadata": {},
   "outputs": [
    {
     "data": {
      "text/plain": [
       "KaggleSet\n",
       "b    100000\n",
       "t    250000\n",
       "u     18238\n",
       "v    450000\n",
       "Name: EventId, dtype: int64"
      ]
     },
     "execution_count": 3,
     "metadata": {},
     "output_type": "execute_result"
    }
   ],
   "source": [
    "df.groupby(\"KaggleSet\").count()[\"EventId\"]"
   ]
  },
  {
   "cell_type": "markdown",
   "metadata": {},
   "source": [
    "The dataset mixes background (b) and signal (s) events:"
   ]
  },
  {
   "cell_type": "code",
   "execution_count": 4,
   "metadata": {},
   "outputs": [
    {
     "data": {
      "text/plain": [
       "Label\n",
       "b    538678\n",
       "s    279560\n",
       "Name: EventId, dtype: int64"
      ]
     },
     "execution_count": 4,
     "metadata": {},
     "output_type": "execute_result"
    }
   ],
   "source": [
    "df.groupby(\"Label\").count()[\"EventId\"]"
   ]
  },
  {
   "cell_type": "markdown",
   "metadata": {},
   "source": [
    "If the actual $s:b$ ratio were so large ($\\sim1/3$), we would have found the Higgs much earlier. \n",
    "To obtain the actual number of signal and background events we expect in the 2012 ATLAS dataset, we need to take into account the provided weights:"
   ]
  },
  {
   "cell_type": "code",
   "execution_count": 5,
   "metadata": {},
   "outputs": [
    {
     "data": {
      "text/plain": [
       "Label\n",
       "b    410999.847322\n",
       "s       691.988608\n",
       "Name: Weight, dtype: float64"
      ]
     },
     "execution_count": 5,
     "metadata": {},
     "output_type": "execute_result"
    }
   ],
   "source": [
    "df.groupby(\"Label\").sum()[\"Weight\"]"
   ]
  },
  {
   "cell_type": "markdown",
   "metadata": {},
   "source": [
    "That is, without any additional selection we expect a signal-background ratio of only 1.7 permille.\n",
    "\n",
    "Each simulated event has a weight\n",
    "* proportional to the conditional density divided by the instrumental density used by the simulator (an importance-sampling flavor),\n",
    "* and normalized for integrated luminosity (the size of the dataset; factors in cross section, beam intensity and run time of the collider)\n",
    "\n",
    "The weights are an artifact of the way the simulation works and not part of the input to the classifier."
   ]
  },
  {
   "cell_type": "code",
   "execution_count": 6,
   "metadata": {},
   "outputs": [
    {
     "data": {
      "image/png": "[encoded data removed]",
      "text/plain": [
       "<Figure size 432x288 with 1 Axes>"
      ]
     },
     "metadata": {
      "needs_background": "light"
     },
     "output_type": "display_data"
    }
   ],
   "source": [
    "# different weights correspond roughly to different background processes (due to the different cross sections)\n",
    "ax = plt.hist(df[\"Weight\"], bins = 100)\n",
    "plt.yscale('log')"
   ]
  },
  {
   "cell_type": "markdown",
   "metadata": {},
   "source": [
    "Only three different background processes were retained in this dataset ($Z\\to\\tau\\tau$, top-quark-pair production, $W\\to\\ell\\nu$)."
   ]
  },
  {
   "cell_type": "markdown",
   "metadata": {},
   "source": [
    "## Exploring the data"
   ]
  },
  {
   "cell_type": "code",
   "execution_count": 7,
   "metadata": {},
   "outputs": [
    {
     "name": "stdout",
     "output_type": "stream",
     "text": [
      "<class 'pandas.core.frame.DataFrame'>\n",
      "RangeIndex: 818238 entries, 0 to 818237\n",
      "Data columns (total 35 columns):\n",
      "EventId                        818238 non-null int64\n",
      "DER_mass_MMC                   818238 non-null float64\n",
      "DER_mass_transverse_met_lep    818238 non-null float64\n",
      "DER_mass_vis                   818238 non-null float64\n",
      "DER_pt_h                       818238 non-null float64\n",
      "DER_deltaeta_jet_jet           818238 non-null float64\n",
      "DER_mass_jet_jet               818238 non-null float64\n",
      "DER_prodeta_jet_jet            818238 non-null float64\n",
      "DER_deltar_tau_lep             818238 non-null float64\n",
      "DER_pt_tot                     818238 non-null float64\n",
      "DER_sum_pt                     818238 non-null float64\n",
      "DER_pt_ratio_lep_tau           818238 non-null float64\n",
      "DER_met_phi_centrality         818238 non-null float64\n",
      "DER_lep_eta_centrality         818238 non-null float64\n",
      "PRI_tau_pt                     818238 non-null float64\n",
      "PRI_tau_eta                    818238 non-null float64\n",
      "PRI_tau_phi                    818238 non-null float64\n",
      "PRI_lep_pt                     818238 non-null float64\n",
      "PRI_lep_eta                    818238 non-null float64\n",
      "PRI_lep_phi                    818238 non-null float64\n",
      "PRI_met                        818238 non-null float64\n",
      "PRI_met_phi                    818238 non-null float64\n",
      "PRI_met_sumet                  818238 non-null float64\n",
      "PRI_jet_num                    818238 non-null int64\n",
      "PRI_jet_leading_pt             818238 non-null float64\n",
      "PRI_jet_leading_eta            818238 non-null float64\n",
      "PRI_jet_leading_phi            818238 non-null float64\n",
      "PRI_jet_subleading_pt          818238 non-null float64\n",
      "PRI_jet_subleading_eta         818238 non-null float64\n",
      "PRI_jet_subleading_phi         818238 non-null float64\n",
      "PRI_jet_all_pt                 818238 non-null float64\n",
      "Weight                         818238 non-null float64\n",
      "Label                          818238 non-null object\n",
      "KaggleSet                      818238 non-null object\n",
      "KaggleWeight                   818238 non-null float64\n",
      "dtypes: float64(31), int64(2), object(2)\n",
      "memory usage: 218.5+ MB\n"
     ]
    }
   ],
   "source": [
    "df.info()"
   ]
  },
  {
   "cell_type": "code",
   "execution_count": 8,
   "metadata": {},
   "outputs": [
    {
     "data": {
      "text/html": [
       "<div>\n",
       "<style scoped>\n",
       "    .dataframe tbody tr th:only-of-type {\n",
       "        vertical-align: middle;\n",
       "    }\n",
       "\n",
       "    .dataframe tbody tr th {\n",
       "        vertical-align: top;\n",
       "    }\n",
       "\n",
       "    .dataframe thead th {\n",
       "        text-align: right;\n",
       "    }\n",
       "</style>\n",
       "<table border=\"1\" class=\"dataframe\">\n",
       "  <thead>\n",
       "    <tr style=\"text-align: right;\">\n",
       "      <th></th>\n",
       "      <th>0</th>\n",
       "      <th>1</th>\n",
       "      <th>2</th>\n",
       "      <th>3</th>\n",
       "      <th>4</th>\n",
       "    </tr>\n",
       "  </thead>\n",
       "  <tbody>\n",
       "    <tr>\n",
       "      <th>EventId</th>\n",
       "      <td>100000</td>\n",
       "      <td>100001</td>\n",
       "      <td>100002</td>\n",
       "      <td>100003</td>\n",
       "      <td>100004</td>\n",
       "    </tr>\n",
       "    <tr>\n",
       "      <th>DER_mass_MMC</th>\n",
       "      <td>138.47</td>\n",
       "      <td>160.937</td>\n",
       "      <td>-999</td>\n",
       "      <td>143.905</td>\n",
       "      <td>175.864</td>\n",
       "    </tr>\n",
       "    <tr>\n",
       "      <th>DER_mass_transverse_met_lep</th>\n",
       "      <td>51.655</td>\n",
       "      <td>68.768</td>\n",
       "      <td>162.172</td>\n",
       "      <td>81.417</td>\n",
       "      <td>16.915</td>\n",
       "    </tr>\n",
       "    <tr>\n",
       "      <th>DER_mass_vis</th>\n",
       "      <td>97.827</td>\n",
       "      <td>103.235</td>\n",
       "      <td>125.953</td>\n",
       "      <td>80.943</td>\n",
       "      <td>134.805</td>\n",
       "    </tr>\n",
       "    <tr>\n",
       "      <th>DER_pt_h</th>\n",
       "      <td>27.98</td>\n",
       "      <td>48.146</td>\n",
       "      <td>35.635</td>\n",
       "      <td>0.414</td>\n",
       "      <td>16.405</td>\n",
       "    </tr>\n",
       "    <tr>\n",
       "      <th>DER_deltaeta_jet_jet</th>\n",
       "      <td>0.91</td>\n",
       "      <td>-999</td>\n",
       "      <td>-999</td>\n",
       "      <td>-999</td>\n",
       "      <td>-999</td>\n",
       "    </tr>\n",
       "    <tr>\n",
       "      <th>DER_mass_jet_jet</th>\n",
       "      <td>124.711</td>\n",
       "      <td>-999</td>\n",
       "      <td>-999</td>\n",
       "      <td>-999</td>\n",
       "      <td>-999</td>\n",
       "    </tr>\n",
       "    <tr>\n",
       "      <th>DER_prodeta_jet_jet</th>\n",
       "      <td>2.666</td>\n",
       "      <td>-999</td>\n",
       "      <td>-999</td>\n",
       "      <td>-999</td>\n",
       "      <td>-999</td>\n",
       "    </tr>\n",
       "    <tr>\n",
       "      <th>DER_deltar_tau_lep</th>\n",
       "      <td>3.064</td>\n",
       "      <td>3.473</td>\n",
       "      <td>3.148</td>\n",
       "      <td>3.31</td>\n",
       "      <td>3.891</td>\n",
       "    </tr>\n",
       "    <tr>\n",
       "      <th>DER_pt_tot</th>\n",
       "      <td>41.928</td>\n",
       "      <td>2.078</td>\n",
       "      <td>9.336</td>\n",
       "      <td>0.414</td>\n",
       "      <td>16.405</td>\n",
       "    </tr>\n",
       "    <tr>\n",
       "      <th>DER_sum_pt</th>\n",
       "      <td>197.76</td>\n",
       "      <td>125.157</td>\n",
       "      <td>197.814</td>\n",
       "      <td>75.968</td>\n",
       "      <td>57.983</td>\n",
       "    </tr>\n",
       "    <tr>\n",
       "      <th>DER_pt_ratio_lep_tau</th>\n",
       "      <td>1.582</td>\n",
       "      <td>0.879</td>\n",
       "      <td>3.776</td>\n",
       "      <td>2.354</td>\n",
       "      <td>1.056</td>\n",
       "    </tr>\n",
       "    <tr>\n",
       "      <th>DER_met_phi_centrality</th>\n",
       "      <td>1.396</td>\n",
       "      <td>1.414</td>\n",
       "      <td>1.414</td>\n",
       "      <td>-1.285</td>\n",
       "      <td>-1.385</td>\n",
       "    </tr>\n",
       "    <tr>\n",
       "      <th>DER_lep_eta_centrality</th>\n",
       "      <td>0.2</td>\n",
       "      <td>-999</td>\n",
       "      <td>-999</td>\n",
       "      <td>-999</td>\n",
       "      <td>-999</td>\n",
       "    </tr>\n",
       "    <tr>\n",
       "      <th>PRI_tau_pt</th>\n",
       "      <td>32.638</td>\n",
       "      <td>42.014</td>\n",
       "      <td>32.154</td>\n",
       "      <td>22.647</td>\n",
       "      <td>28.209</td>\n",
       "    </tr>\n",
       "    <tr>\n",
       "      <th>PRI_tau_eta</th>\n",
       "      <td>1.017</td>\n",
       "      <td>2.039</td>\n",
       "      <td>-0.705</td>\n",
       "      <td>-1.655</td>\n",
       "      <td>-2.197</td>\n",
       "    </tr>\n",
       "    <tr>\n",
       "      <th>PRI_tau_phi</th>\n",
       "      <td>0.381</td>\n",
       "      <td>-3.011</td>\n",
       "      <td>-2.093</td>\n",
       "      <td>0.01</td>\n",
       "      <td>-2.231</td>\n",
       "    </tr>\n",
       "    <tr>\n",
       "      <th>PRI_lep_pt</th>\n",
       "      <td>51.626</td>\n",
       "      <td>36.918</td>\n",
       "      <td>121.409</td>\n",
       "      <td>53.321</td>\n",
       "      <td>29.774</td>\n",
       "    </tr>\n",
       "    <tr>\n",
       "      <th>PRI_lep_eta</th>\n",
       "      <td>2.273</td>\n",
       "      <td>0.501</td>\n",
       "      <td>-0.953</td>\n",
       "      <td>-0.522</td>\n",
       "      <td>0.798</td>\n",
       "    </tr>\n",
       "    <tr>\n",
       "      <th>PRI_lep_phi</th>\n",
       "      <td>-2.414</td>\n",
       "      <td>0.103</td>\n",
       "      <td>1.052</td>\n",
       "      <td>-3.1</td>\n",
       "      <td>1.569</td>\n",
       "    </tr>\n",
       "    <tr>\n",
       "      <th>PRI_met</th>\n",
       "      <td>16.824</td>\n",
       "      <td>44.704</td>\n",
       "      <td>54.283</td>\n",
       "      <td>31.082</td>\n",
       "      <td>2.723</td>\n",
       "    </tr>\n",
       "    <tr>\n",
       "      <th>PRI_met_phi</th>\n",
       "      <td>-0.277</td>\n",
       "      <td>-1.916</td>\n",
       "      <td>-2.186</td>\n",
       "      <td>0.06</td>\n",
       "      <td>-0.871</td>\n",
       "    </tr>\n",
       "    <tr>\n",
       "      <th>PRI_met_sumet</th>\n",
       "      <td>258.733</td>\n",
       "      <td>164.546</td>\n",
       "      <td>260.414</td>\n",
       "      <td>86.062</td>\n",
       "      <td>53.131</td>\n",
       "    </tr>\n",
       "    <tr>\n",
       "      <th>PRI_jet_num</th>\n",
       "      <td>2</td>\n",
       "      <td>1</td>\n",
       "      <td>1</td>\n",
       "      <td>0</td>\n",
       "      <td>0</td>\n",
       "    </tr>\n",
       "    <tr>\n",
       "      <th>PRI_jet_leading_pt</th>\n",
       "      <td>67.435</td>\n",
       "      <td>46.226</td>\n",
       "      <td>44.251</td>\n",
       "      <td>-999</td>\n",
       "      <td>-999</td>\n",
       "    </tr>\n",
       "    <tr>\n",
       "      <th>PRI_jet_leading_eta</th>\n",
       "      <td>2.15</td>\n",
       "      <td>0.725</td>\n",
       "      <td>2.053</td>\n",
       "      <td>-999</td>\n",
       "      <td>-999</td>\n",
       "    </tr>\n",
       "    <tr>\n",
       "      <th>PRI_jet_leading_phi</th>\n",
       "      <td>0.444</td>\n",
       "      <td>1.158</td>\n",
       "      <td>-2.028</td>\n",
       "      <td>-999</td>\n",
       "      <td>-999</td>\n",
       "    </tr>\n",
       "    <tr>\n",
       "      <th>PRI_jet_subleading_pt</th>\n",
       "      <td>46.062</td>\n",
       "      <td>-999</td>\n",
       "      <td>-999</td>\n",
       "      <td>-999</td>\n",
       "      <td>-999</td>\n",
       "    </tr>\n",
       "    <tr>\n",
       "      <th>PRI_jet_subleading_eta</th>\n",
       "      <td>1.24</td>\n",
       "      <td>-999</td>\n",
       "      <td>-999</td>\n",
       "      <td>-999</td>\n",
       "      <td>-999</td>\n",
       "    </tr>\n",
       "    <tr>\n",
       "      <th>PRI_jet_subleading_phi</th>\n",
       "      <td>-2.475</td>\n",
       "      <td>-999</td>\n",
       "      <td>-999</td>\n",
       "      <td>-999</td>\n",
       "      <td>-999</td>\n",
       "    </tr>\n",
       "    <tr>\n",
       "      <th>PRI_jet_all_pt</th>\n",
       "      <td>113.497</td>\n",
       "      <td>46.226</td>\n",
       "      <td>44.251</td>\n",
       "      <td>-0</td>\n",
       "      <td>0</td>\n",
       "    </tr>\n",
       "    <tr>\n",
       "      <th>Weight</th>\n",
       "      <td>0.00081448</td>\n",
       "      <td>0.681042</td>\n",
       "      <td>0.715742</td>\n",
       "      <td>1.66065</td>\n",
       "      <td>1.90426</td>\n",
       "    </tr>\n",
       "    <tr>\n",
       "      <th>Label</th>\n",
       "      <td>s</td>\n",
       "      <td>b</td>\n",
       "      <td>b</td>\n",
       "      <td>b</td>\n",
       "      <td>b</td>\n",
       "    </tr>\n",
       "    <tr>\n",
       "      <th>KaggleSet</th>\n",
       "      <td>t</td>\n",
       "      <td>t</td>\n",
       "      <td>t</td>\n",
       "      <td>t</td>\n",
       "      <td>t</td>\n",
       "    </tr>\n",
       "    <tr>\n",
       "      <th>KaggleWeight</th>\n",
       "      <td>0.00265331</td>\n",
       "      <td>2.23358</td>\n",
       "      <td>2.34739</td>\n",
       "      <td>5.44638</td>\n",
       "      <td>6.24533</td>\n",
       "    </tr>\n",
       "  </tbody>\n",
       "</table>\n",
       "</div>"
      ],
      "text/plain": [
       "                                      0         1         2        3        4\n",
       "EventId                          100000    100001    100002   100003   100004\n",
       "DER_mass_MMC                     138.47   160.937      -999  143.905  175.864\n",
       "DER_mass_transverse_met_lep      51.655    68.768   162.172   81.417   16.915\n",
       "DER_mass_vis                     97.827   103.235   125.953   80.943  134.805\n",
       "DER_pt_h                          27.98    48.146    35.635    0.414   16.405\n",
       "DER_deltaeta_jet_jet               0.91      -999      -999     -999     -999\n",
       "DER_mass_jet_jet                124.711      -999      -999     -999     -999\n",
       "DER_prodeta_jet_jet               2.666      -999      -999     -999     -999\n",
       "DER_deltar_tau_lep                3.064     3.473     3.148     3.31    3.891\n",
       "DER_pt_tot                       41.928     2.078     9.336    0.414   16.405\n",
       "DER_sum_pt                       197.76   125.157   197.814   75.968   57.983\n",
       "DER_pt_ratio_lep_tau              1.582     0.879     3.776    2.354    1.056\n",
       "DER_met_phi_centrality            1.396     1.414     1.414   -1.285   -1.385\n",
       "DER_lep_eta_centrality              0.2      -999      -999     -999     -999\n",
       "PRI_tau_pt                       32.638    42.014    32.154   22.647   28.209\n",
       "PRI_tau_eta                       1.017     2.039    -0.705   -1.655   -2.197\n",
       "PRI_tau_phi                       0.381    -3.011    -2.093     0.01   -2.231\n",
       "PRI_lep_pt                       51.626    36.918   121.409   53.321   29.774\n",
       "PRI_lep_eta                       2.273     0.501    -0.953   -0.522    0.798\n",
       "PRI_lep_phi                      -2.414     0.103     1.052     -3.1    1.569\n",
       "PRI_met                          16.824    44.704    54.283   31.082    2.723\n",
       "PRI_met_phi                      -0.277    -1.916    -2.186     0.06   -0.871\n",
       "PRI_met_sumet                   258.733   164.546   260.414   86.062   53.131\n",
       "PRI_jet_num                           2         1         1        0        0\n",
       "PRI_jet_leading_pt               67.435    46.226    44.251     -999     -999\n",
       "PRI_jet_leading_eta                2.15     0.725     2.053     -999     -999\n",
       "PRI_jet_leading_phi               0.444     1.158    -2.028     -999     -999\n",
       "PRI_jet_subleading_pt            46.062      -999      -999     -999     -999\n",
       "PRI_jet_subleading_eta             1.24      -999      -999     -999     -999\n",
       "PRI_jet_subleading_phi           -2.475      -999      -999     -999     -999\n",
       "PRI_jet_all_pt                  113.497    46.226    44.251       -0        0\n",
       "Weight                       0.00081448  0.681042  0.715742  1.66065  1.90426\n",
       "Label                                 s         b         b        b        b\n",
       "KaggleSet                             t         t         t        t        t\n",
       "KaggleWeight                 0.00265331   2.23358   2.34739  5.44638  6.24533"
      ]
     },
     "execution_count": 8,
     "metadata": {},
     "output_type": "execute_result"
    }
   ],
   "source": [
    "df.head().T"
   ]
  },
  {
   "cell_type": "code",
   "execution_count": 9,
   "metadata": {},
   "outputs": [
    {
     "data": {
      "text/html": [
       "<div>\n",
       "<style scoped>\n",
       "    .dataframe tbody tr th:only-of-type {\n",
       "        vertical-align: middle;\n",
       "    }\n",
       "\n",
       "    .dataframe tbody tr th {\n",
       "        vertical-align: top;\n",
       "    }\n",
       "\n",
       "    .dataframe thead th {\n",
       "        text-align: right;\n",
       "    }\n",
       "</style>\n",
       "<table border=\"1\" class=\"dataframe\">\n",
       "  <thead>\n",
       "    <tr style=\"text-align: right;\">\n",
       "      <th></th>\n",
       "      <th>count</th>\n",
       "      <th>mean</th>\n",
       "      <th>std</th>\n",
       "      <th>min</th>\n",
       "      <th>25%</th>\n",
       "      <th>50%</th>\n",
       "      <th>75%</th>\n",
       "      <th>max</th>\n",
       "    </tr>\n",
       "  </thead>\n",
       "  <tbody>\n",
       "    <tr>\n",
       "      <th>EventId</th>\n",
       "      <td>818238.0</td>\n",
       "      <td>509118.500000</td>\n",
       "      <td>236205.109119</td>\n",
       "      <td>100000.000000</td>\n",
       "      <td>304559.250000</td>\n",
       "      <td>509118.500000</td>\n",
       "      <td>713677.750000</td>\n",
       "      <td>918237.000000</td>\n",
       "    </tr>\n",
       "    <tr>\n",
       "      <th>DER_mass_MMC</th>\n",
       "      <td>818238.0</td>\n",
       "      <td>-48.819019</td>\n",
       "      <td>406.118397</td>\n",
       "      <td>-999.000000</td>\n",
       "      <td>78.166000</td>\n",
       "      <td>105.061000</td>\n",
       "      <td>130.730000</td>\n",
       "      <td>1949.261000</td>\n",
       "    </tr>\n",
       "    <tr>\n",
       "      <th>DER_mass_transverse_met_lep</th>\n",
       "      <td>818238.0</td>\n",
       "      <td>49.252714</td>\n",
       "      <td>35.378609</td>\n",
       "      <td>0.000000</td>\n",
       "      <td>19.304000</td>\n",
       "      <td>46.484000</td>\n",
       "      <td>73.620000</td>\n",
       "      <td>968.669000</td>\n",
       "    </tr>\n",
       "    <tr>\n",
       "      <th>DER_mass_vis</th>\n",
       "      <td>818238.0</td>\n",
       "      <td>81.140561</td>\n",
       "      <td>40.582708</td>\n",
       "      <td>6.329000</td>\n",
       "      <td>59.414000</td>\n",
       "      <td>73.744000</td>\n",
       "      <td>92.188000</td>\n",
       "      <td>1349.351000</td>\n",
       "    </tr>\n",
       "    <tr>\n",
       "      <th>DER_pt_h</th>\n",
       "      <td>818238.0</td>\n",
       "      <td>57.849524</td>\n",
       "      <td>63.411938</td>\n",
       "      <td>0.000000</td>\n",
       "      <td>14.164250</td>\n",
       "      <td>38.470000</td>\n",
       "      <td>79.226750</td>\n",
       "      <td>2834.999000</td>\n",
       "    </tr>\n",
       "    <tr>\n",
       "      <th>DER_deltaeta_jet_jet</th>\n",
       "      <td>818238.0</td>\n",
       "      <td>-707.740880</td>\n",
       "      <td>454.793899</td>\n",
       "      <td>-999.000000</td>\n",
       "      <td>-999.000000</td>\n",
       "      <td>-999.000000</td>\n",
       "      <td>0.499000</td>\n",
       "      <td>8.724000</td>\n",
       "    </tr>\n",
       "    <tr>\n",
       "      <th>DER_mass_jet_jet</th>\n",
       "      <td>818238.0</td>\n",
       "      <td>-600.191191</td>\n",
       "      <td>658.724040</td>\n",
       "      <td>-999.000000</td>\n",
       "      <td>-999.000000</td>\n",
       "      <td>-999.000000</td>\n",
       "      <td>84.031750</td>\n",
       "      <td>4974.979000</td>\n",
       "    </tr>\n",
       "    <tr>\n",
       "      <th>DER_prodeta_jet_jet</th>\n",
       "      <td>818238.0</td>\n",
       "      <td>-708.681306</td>\n",
       "      <td>453.328599</td>\n",
       "      <td>-999.000000</td>\n",
       "      <td>-999.000000</td>\n",
       "      <td>-999.000000</td>\n",
       "      <td>-4.548000</td>\n",
       "      <td>17.650000</td>\n",
       "    </tr>\n",
       "    <tr>\n",
       "      <th>DER_deltar_tau_lep</th>\n",
       "      <td>818238.0</td>\n",
       "      <td>2.373871</td>\n",
       "      <td>0.780875</td>\n",
       "      <td>0.208000</td>\n",
       "      <td>1.814000</td>\n",
       "      <td>2.492000</td>\n",
       "      <td>2.962000</td>\n",
       "      <td>5.751000</td>\n",
       "    </tr>\n",
       "    <tr>\n",
       "      <th>DER_pt_tot</th>\n",
       "      <td>818238.0</td>\n",
       "      <td>18.969617</td>\n",
       "      <td>21.918491</td>\n",
       "      <td>0.000000</td>\n",
       "      <td>2.839000</td>\n",
       "      <td>12.383000</td>\n",
       "      <td>27.634000</td>\n",
       "      <td>2834.999000</td>\n",
       "    </tr>\n",
       "    <tr>\n",
       "      <th>DER_sum_pt</th>\n",
       "      <td>818238.0</td>\n",
       "      <td>158.596159</td>\n",
       "      <td>116.089809</td>\n",
       "      <td>46.103000</td>\n",
       "      <td>77.492000</td>\n",
       "      <td>120.665000</td>\n",
       "      <td>200.884500</td>\n",
       "      <td>2079.162000</td>\n",
       "    </tr>\n",
       "    <tr>\n",
       "      <th>DER_pt_ratio_lep_tau</th>\n",
       "      <td>818238.0</td>\n",
       "      <td>1.438776</td>\n",
       "      <td>0.845109</td>\n",
       "      <td>0.047000</td>\n",
       "      <td>0.885000</td>\n",
       "      <td>1.281000</td>\n",
       "      <td>1.778000</td>\n",
       "      <td>32.228000</td>\n",
       "    </tr>\n",
       "    <tr>\n",
       "      <th>DER_met_phi_centrality</th>\n",
       "      <td>818238.0</td>\n",
       "      <td>-0.127277</td>\n",
       "      <td>1.194235</td>\n",
       "      <td>-1.414000</td>\n",
       "      <td>-1.371000</td>\n",
       "      <td>-0.356000</td>\n",
       "      <td>1.228750</td>\n",
       "      <td>1.414000</td>\n",
       "    </tr>\n",
       "    <tr>\n",
       "      <th>DER_lep_eta_centrality</th>\n",
       "      <td>818238.0</td>\n",
       "      <td>-708.306918</td>\n",
       "      <td>453.909127</td>\n",
       "      <td>-999.000000</td>\n",
       "      <td>-999.000000</td>\n",
       "      <td>-999.000000</td>\n",
       "      <td>0.000000</td>\n",
       "      <td>1.000000</td>\n",
       "    </tr>\n",
       "    <tr>\n",
       "      <th>PRI_tau_pt</th>\n",
       "      <td>818238.0</td>\n",
       "      <td>38.698152</td>\n",
       "      <td>22.429016</td>\n",
       "      <td>20.000000</td>\n",
       "      <td>24.586000</td>\n",
       "      <td>31.776000</td>\n",
       "      <td>44.919750</td>\n",
       "      <td>764.408000</td>\n",
       "    </tr>\n",
       "    <tr>\n",
       "      <th>PRI_tau_eta</th>\n",
       "      <td>818238.0</td>\n",
       "      <td>-0.011663</td>\n",
       "      <td>1.213511</td>\n",
       "      <td>-2.499000</td>\n",
       "      <td>-0.926000</td>\n",
       "      <td>-0.022000</td>\n",
       "      <td>0.899000</td>\n",
       "      <td>2.500000</td>\n",
       "    </tr>\n",
       "    <tr>\n",
       "      <th>PRI_tau_phi</th>\n",
       "      <td>818238.0</td>\n",
       "      <td>-0.013158</td>\n",
       "      <td>1.816083</td>\n",
       "      <td>-3.142000</td>\n",
       "      <td>-1.584000</td>\n",
       "      <td>-0.039000</td>\n",
       "      <td>1.559000</td>\n",
       "      <td>3.142000</td>\n",
       "    </tr>\n",
       "    <tr>\n",
       "      <th>PRI_lep_pt</th>\n",
       "      <td>818238.0</td>\n",
       "      <td>46.692414</td>\n",
       "      <td>22.142337</td>\n",
       "      <td>26.000000</td>\n",
       "      <td>32.375000</td>\n",
       "      <td>40.543000</td>\n",
       "      <td>53.379000</td>\n",
       "      <td>701.328000</td>\n",
       "    </tr>\n",
       "    <tr>\n",
       "      <th>PRI_lep_eta</th>\n",
       "      <td>818238.0</td>\n",
       "      <td>-0.019079</td>\n",
       "      <td>1.264250</td>\n",
       "      <td>-2.508000</td>\n",
       "      <td>-1.012000</td>\n",
       "      <td>-0.040000</td>\n",
       "      <td>0.957000</td>\n",
       "      <td>2.506000</td>\n",
       "    </tr>\n",
       "    <tr>\n",
       "      <th>PRI_lep_phi</th>\n",
       "      <td>818238.0</td>\n",
       "      <td>0.049460</td>\n",
       "      <td>1.815099</td>\n",
       "      <td>-3.142000</td>\n",
       "      <td>-1.513000</td>\n",
       "      <td>0.093000</td>\n",
       "      <td>1.618000</td>\n",
       "      <td>3.142000</td>\n",
       "    </tr>\n",
       "    <tr>\n",
       "      <th>PRI_met</th>\n",
       "      <td>818238.0</td>\n",
       "      <td>41.654526</td>\n",
       "      <td>32.496113</td>\n",
       "      <td>0.051000</td>\n",
       "      <td>21.383000</td>\n",
       "      <td>34.768000</td>\n",
       "      <td>51.912000</td>\n",
       "      <td>2842.617000</td>\n",
       "    </tr>\n",
       "    <tr>\n",
       "      <th>PRI_met_phi</th>\n",
       "      <td>818238.0</td>\n",
       "      <td>-0.008634</td>\n",
       "      <td>1.812703</td>\n",
       "      <td>-3.142000</td>\n",
       "      <td>-1.574000</td>\n",
       "      <td>-0.019000</td>\n",
       "      <td>1.559000</td>\n",
       "      <td>3.142000</td>\n",
       "    </tr>\n",
       "    <tr>\n",
       "      <th>PRI_met_sumet</th>\n",
       "      <td>818238.0</td>\n",
       "      <td>209.908730</td>\n",
       "      <td>126.816686</td>\n",
       "      <td>13.678000</td>\n",
       "      <td>122.985000</td>\n",
       "      <td>179.883000</td>\n",
       "      <td>263.828000</td>\n",
       "      <td>2190.275000</td>\n",
       "    </tr>\n",
       "    <tr>\n",
       "      <th>PRI_jet_num</th>\n",
       "      <td>818238.0</td>\n",
       "      <td>0.979923</td>\n",
       "      <td>0.978793</td>\n",
       "      <td>0.000000</td>\n",
       "      <td>0.000000</td>\n",
       "      <td>1.000000</td>\n",
       "      <td>2.000000</td>\n",
       "      <td>3.000000</td>\n",
       "    </tr>\n",
       "    <tr>\n",
       "      <th>PRI_jet_leading_pt</th>\n",
       "      <td>818238.0</td>\n",
       "      <td>-348.757840</td>\n",
       "      <td>533.097006</td>\n",
       "      <td>-999.000000</td>\n",
       "      <td>-999.000000</td>\n",
       "      <td>38.965000</td>\n",
       "      <td>75.470750</td>\n",
       "      <td>1163.439000</td>\n",
       "    </tr>\n",
       "    <tr>\n",
       "      <th>PRI_jet_leading_eta</th>\n",
       "      <td>818238.0</td>\n",
       "      <td>-399.693294</td>\n",
       "      <td>489.428560</td>\n",
       "      <td>-999.000000</td>\n",
       "      <td>-999.000000</td>\n",
       "      <td>-1.865000</td>\n",
       "      <td>0.432000</td>\n",
       "      <td>4.500000</td>\n",
       "    </tr>\n",
       "    <tr>\n",
       "      <th>PRI_jet_leading_phi</th>\n",
       "      <td>818238.0</td>\n",
       "      <td>-399.703858</td>\n",
       "      <td>489.420013</td>\n",
       "      <td>-999.000000</td>\n",
       "      <td>-999.000000</td>\n",
       "      <td>-2.105000</td>\n",
       "      <td>0.489000</td>\n",
       "      <td>3.142000</td>\n",
       "    </tr>\n",
       "    <tr>\n",
       "      <th>PRI_jet_subleading_pt</th>\n",
       "      <td>818238.0</td>\n",
       "      <td>-691.626111</td>\n",
       "      <td>480.274744</td>\n",
       "      <td>-999.000000</td>\n",
       "      <td>-999.000000</td>\n",
       "      <td>-999.000000</td>\n",
       "      <td>33.800000</td>\n",
       "      <td>817.801000</td>\n",
       "    </tr>\n",
       "    <tr>\n",
       "      <th>PRI_jet_subleading_eta</th>\n",
       "      <td>818238.0</td>\n",
       "      <td>-708.442206</td>\n",
       "      <td>453.699150</td>\n",
       "      <td>-999.000000</td>\n",
       "      <td>-999.000000</td>\n",
       "      <td>-999.000000</td>\n",
       "      <td>-2.436000</td>\n",
       "      <td>4.500000</td>\n",
       "    </tr>\n",
       "    <tr>\n",
       "      <th>PRI_jet_subleading_phi</th>\n",
       "      <td>818238.0</td>\n",
       "      <td>-708.443312</td>\n",
       "      <td>453.697158</td>\n",
       "      <td>-999.000000</td>\n",
       "      <td>-999.000000</td>\n",
       "      <td>-999.000000</td>\n",
       "      <td>-2.265000</td>\n",
       "      <td>3.142000</td>\n",
       "    </tr>\n",
       "    <tr>\n",
       "      <th>PRI_jet_all_pt</th>\n",
       "      <td>818238.0</td>\n",
       "      <td>73.205594</td>\n",
       "      <td>98.331754</td>\n",
       "      <td>0.000000</td>\n",
       "      <td>0.000000</td>\n",
       "      <td>40.506000</td>\n",
       "      <td>110.387000</td>\n",
       "      <td>1860.175000</td>\n",
       "    </tr>\n",
       "    <tr>\n",
       "      <th>Weight</th>\n",
       "      <td>818238.0</td>\n",
       "      <td>0.503144</td>\n",
       "      <td>0.572200</td>\n",
       "      <td>0.000461</td>\n",
       "      <td>0.005721</td>\n",
       "      <td>0.357223</td>\n",
       "      <td>0.733462</td>\n",
       "      <td>2.386316</td>\n",
       "    </tr>\n",
       "    <tr>\n",
       "      <th>KaggleWeight</th>\n",
       "      <td>818238.0</td>\n",
       "      <td>2.012577</td>\n",
       "      <td>5.439641</td>\n",
       "      <td>0.000839</td>\n",
       "      <td>0.010415</td>\n",
       "      <td>0.806562</td>\n",
       "      <td>2.360271</td>\n",
       "      <td>106.908407</td>\n",
       "    </tr>\n",
       "  </tbody>\n",
       "</table>\n",
       "</div>"
      ],
      "text/plain": [
       "                                count           mean            std  \\\n",
       "EventId                      818238.0  509118.500000  236205.109119   \n",
       "DER_mass_MMC                 818238.0     -48.819019     406.118397   \n",
       "DER_mass_transverse_met_lep  818238.0      49.252714      35.378609   \n",
       "DER_mass_vis                 818238.0      81.140561      40.582708   \n",
       "DER_pt_h                     818238.0      57.849524      63.411938   \n",
       "DER_deltaeta_jet_jet         818238.0    -707.740880     454.793899   \n",
       "DER_mass_jet_jet             818238.0    -600.191191     658.724040   \n",
       "DER_prodeta_jet_jet          818238.0    -708.681306     453.328599   \n",
       "DER_deltar_tau_lep           818238.0       2.373871       0.780875   \n",
       "DER_pt_tot                   818238.0      18.969617      21.918491   \n",
       "DER_sum_pt                   818238.0     158.596159     116.089809   \n",
       "DER_pt_ratio_lep_tau         818238.0       1.438776       0.845109   \n",
       "DER_met_phi_centrality       818238.0      -0.127277       1.194235   \n",
       "DER_lep_eta_centrality       818238.0    -708.306918     453.909127   \n",
       "PRI_tau_pt                   818238.0      38.698152      22.429016   \n",
       "PRI_tau_eta                  818238.0      -0.011663       1.213511   \n",
       "PRI_tau_phi                  818238.0      -0.013158       1.816083   \n",
       "PRI_lep_pt                   818238.0      46.692414      22.142337   \n",
       "PRI_lep_eta                  818238.0      -0.019079       1.264250   \n",
       "PRI_lep_phi                  818238.0       0.049460       1.815099   \n",
       "PRI_met                      818238.0      41.654526      32.496113   \n",
       "PRI_met_phi                  818238.0      -0.008634       1.812703   \n",
       "PRI_met_sumet                818238.0     209.908730     126.816686   \n",
       "PRI_jet_num                  818238.0       0.979923       0.978793   \n",
       "PRI_jet_leading_pt           818238.0    -348.757840     533.097006   \n",
       "PRI_jet_leading_eta          818238.0    -399.693294     489.428560   \n",
       "PRI_jet_leading_phi          818238.0    -399.703858     489.420013   \n",
       "PRI_jet_subleading_pt        818238.0    -691.626111     480.274744   \n",
       "PRI_jet_subleading_eta       818238.0    -708.442206     453.699150   \n",
       "PRI_jet_subleading_phi       818238.0    -708.443312     453.697158   \n",
       "PRI_jet_all_pt               818238.0      73.205594      98.331754   \n",
       "Weight                       818238.0       0.503144       0.572200   \n",
       "KaggleWeight                 818238.0       2.012577       5.439641   \n",
       "\n",
       "                                       min            25%            50%  \\\n",
       "EventId                      100000.000000  304559.250000  509118.500000   \n",
       "DER_mass_MMC                   -999.000000      78.166000     105.061000   \n",
       "DER_mass_transverse_met_lep       0.000000      19.304000      46.484000   \n",
       "DER_mass_vis                      6.329000      59.414000      73.744000   \n",
       "DER_pt_h                          0.000000      14.164250      38.470000   \n",
       "DER_deltaeta_jet_jet           -999.000000    -999.000000    -999.000000   \n",
       "DER_mass_jet_jet               -999.000000    -999.000000    -999.000000   \n",
       "DER_prodeta_jet_jet            -999.000000    -999.000000    -999.000000   \n",
       "DER_deltar_tau_lep                0.208000       1.814000       2.492000   \n",
       "DER_pt_tot                        0.000000       2.839000      12.383000   \n",
       "DER_sum_pt                       46.103000      77.492000     120.665000   \n",
       "DER_pt_ratio_lep_tau              0.047000       0.885000       1.281000   \n",
       "DER_met_phi_centrality           -1.414000      -1.371000      -0.356000   \n",
       "DER_lep_eta_centrality         -999.000000    -999.000000    -999.000000   \n",
       "PRI_tau_pt                       20.000000      24.586000      31.776000   \n",
       "PRI_tau_eta                      -2.499000      -0.926000      -0.022000   \n",
       "PRI_tau_phi                      -3.142000      -1.584000      -0.039000   \n",
       "PRI_lep_pt                       26.000000      32.375000      40.543000   \n",
       "PRI_lep_eta                      -2.508000      -1.012000      -0.040000   \n",
       "PRI_lep_phi                      -3.142000      -1.513000       0.093000   \n",
       "PRI_met                           0.051000      21.383000      34.768000   \n",
       "PRI_met_phi                      -3.142000      -1.574000      -0.019000   \n",
       "PRI_met_sumet                    13.678000     122.985000     179.883000   \n",
       "PRI_jet_num                       0.000000       0.000000       1.000000   \n",
       "PRI_jet_leading_pt             -999.000000    -999.000000      38.965000   \n",
       "PRI_jet_leading_eta            -999.000000    -999.000000      -1.865000   \n",
       "PRI_jet_leading_phi            -999.000000    -999.000000      -2.105000   \n",
       "PRI_jet_subleading_pt          -999.000000    -999.000000    -999.000000   \n",
       "PRI_jet_subleading_eta         -999.000000    -999.000000    -999.000000   \n",
       "PRI_jet_subleading_phi         -999.000000    -999.000000    -999.000000   \n",
       "PRI_jet_all_pt                    0.000000       0.000000      40.506000   \n",
       "Weight                            0.000461       0.005721       0.357223   \n",
       "KaggleWeight                      0.000839       0.010415       0.806562   \n",
       "\n",
       "                                       75%            max  \n",
       "EventId                      713677.750000  918237.000000  \n",
       "DER_mass_MMC                    130.730000    1949.261000  \n",
       "DER_mass_transverse_met_lep      73.620000     968.669000  \n",
       "DER_mass_vis                     92.188000    1349.351000  \n",
       "DER_pt_h                         79.226750    2834.999000  \n",
       "DER_deltaeta_jet_jet              0.499000       8.724000  \n",
       "DER_mass_jet_jet                 84.031750    4974.979000  \n",
       "DER_prodeta_jet_jet              -4.548000      17.650000  \n",
       "DER_deltar_tau_lep                2.962000       5.751000  \n",
       "DER_pt_tot                       27.634000    2834.999000  \n",
       "DER_sum_pt                      200.884500    2079.162000  \n",
       "DER_pt_ratio_lep_tau              1.778000      32.228000  \n",
       "DER_met_phi_centrality            1.228750       1.414000  \n",
       "DER_lep_eta_centrality            0.000000       1.000000  \n",
       "PRI_tau_pt                       44.919750     764.408000  \n",
       "PRI_tau_eta                       0.899000       2.500000  \n",
       "PRI_tau_phi                       1.559000       3.142000  \n",
       "PRI_lep_pt                       53.379000     701.328000  \n",
       "PRI_lep_eta                       0.957000       2.506000  \n",
       "PRI_lep_phi                       1.618000       3.142000  \n",
       "PRI_met                          51.912000    2842.617000  \n",
       "PRI_met_phi                       1.559000       3.142000  \n",
       "PRI_met_sumet                   263.828000    2190.275000  \n",
       "PRI_jet_num                       2.000000       3.000000  \n",
       "PRI_jet_leading_pt               75.470750    1163.439000  \n",
       "PRI_jet_leading_eta               0.432000       4.500000  \n",
       "PRI_jet_leading_phi               0.489000       3.142000  \n",
       "PRI_jet_subleading_pt            33.800000     817.801000  \n",
       "PRI_jet_subleading_eta           -2.436000       4.500000  \n",
       "PRI_jet_subleading_phi           -2.265000       3.142000  \n",
       "PRI_jet_all_pt                  110.387000    1860.175000  \n",
       "Weight                            0.733462       2.386316  \n",
       "KaggleWeight                      2.360271     106.908407  "
      ]
     },
     "execution_count": 9,
     "metadata": {},
     "output_type": "execute_result"
    }
   ],
   "source": [
    "df.describe().T"
   ]
  },
  {
   "cell_type": "markdown",
   "metadata": {},
   "source": [
    "### Brief overview on variables, there is more information in the documentation. \n",
    "* 30 features\n",
    "  * The variables that start with **DER** are derived quantities, determined by the physicists performing the analysis as variables that discriminate signal from background. \n",
    "  * On the other hand, those that start with **PRI** are considered to be primary variables, from which the derived variables are calculated. \n",
    "    * They themselves generally do not provide much discrimination.\n",
    "    * One of the ideas suggested by deep networks is that they can determine the necessary features from the primary variables, potentially even finding variables that the physicists did not consider. \n",
    "* *EventId* identifies the event but is not a \"feature.\" \n",
    "* The *Weight* is the event weight.\n",
    "  * used to obtain the proper normalization of the different signal and background samples\n",
    "  * sum of weights of all signal events should produce the signal yield expected to be observed in 2012 LHC data taking\n",
    "  * sum of weights of all background events should produce the background yield\n",
    "* *Label* indicates if it is a signal or background event. \n",
    "* Ignore the *Kaggle* variables --- they are only used if you want to reproduce exactly what was used in the Challenge. "
   ]
  },
  {
   "cell_type": "markdown",
   "metadata": {},
   "source": [
    "### Investigate/visualize some parameters"
   ]
  },
  {
   "cell_type": "code",
   "execution_count": 10,
   "metadata": {},
   "outputs": [],
   "source": [
    "import seaborn as sns"
   ]
  },
  {
   "cell_type": "code",
   "execution_count": 11,
   "metadata": {},
   "outputs": [
    {
     "data": {
      "text/plain": [
       "Index(['EventId', 'DER_mass_MMC', 'DER_mass_transverse_met_lep',\n",
       "       'DER_mass_vis', 'DER_pt_h', 'DER_deltaeta_jet_jet', 'DER_mass_jet_jet',\n",
       "       'DER_prodeta_jet_jet', 'DER_deltar_tau_lep', 'DER_pt_tot', 'DER_sum_pt',\n",
       "       'DER_pt_ratio_lep_tau', 'DER_met_phi_centrality',\n",
       "       'DER_lep_eta_centrality', 'PRI_tau_pt', 'PRI_tau_eta', 'PRI_tau_phi',\n",
       "       'PRI_lep_pt', 'PRI_lep_eta', 'PRI_lep_phi', 'PRI_met', 'PRI_met_phi',\n",
       "       'PRI_met_sumet', 'PRI_jet_num', 'PRI_jet_leading_pt',\n",
       "       'PRI_jet_leading_eta', 'PRI_jet_leading_phi', 'PRI_jet_subleading_pt',\n",
       "       'PRI_jet_subleading_eta', 'PRI_jet_subleading_phi', 'PRI_jet_all_pt',\n",
       "       'Weight', 'Label', 'KaggleSet', 'KaggleWeight'],\n",
       "      dtype='object')"
      ]
     },
     "execution_count": 11,
     "metadata": {},
     "output_type": "execute_result"
    }
   ],
   "source": [
    "df.keys()"
   ]
  },
  {
   "cell_type": "code",
   "execution_count": 12,
   "metadata": {},
   "outputs": [],
   "source": [
    "# take sub-set of vars for plotting\n",
    "varplot = ['DER_mass_MMC', 'DER_mass_jet_jet',\n",
    "       'DER_deltar_tau_lep', 'DER_pt_tot','PRI_jet_subleading_pt']\n"
   ]
  },
  {
   "cell_type": "code",
   "execution_count": 13,
   "metadata": {},
   "outputs": [],
   "source": [
    "# Preprocessing: map labels to integers\n",
    "df['Label'] = df['Label'].map({'b':0, 's':1})"
   ]
  },
  {
   "cell_type": "code",
   "execution_count": 14,
   "metadata": {},
   "outputs": [
    {
     "data": {
      "image/png": "[encoded data removed]",
      "text/plain": [
       "<Figure size 360x360 with 1 Axes>"
      ]
     },
     "metadata": {
      "needs_background": "light"
     },
     "output_type": "display_data"
    },
    {
     "data": {
      "image/png": "[encoded data removed]",
      "text/plain": [
       "<Figure size 360x360 with 1 Axes>"
      ]
     },
     "metadata": {
      "needs_background": "light"
     },
     "output_type": "display_data"
    },
    {
     "data": {
      "image/png": "[encoded data removed]",
      "text/plain": [
       "<Figure size 360x360 with 1 Axes>"
      ]
     },
     "metadata": {
      "needs_background": "light"
     },
     "output_type": "display_data"
    },
    {
     "data": {
      "image/png": "[encoded data removed]",
      "text/plain": [
       "<Figure size 360x360 with 1 Axes>"
      ]
     },
     "metadata": {
      "needs_background": "light"
     },
     "output_type": "display_data"
    },
    {
     "data": {
      "image/png": "[encoded data removed]",
      "text/plain": [
       "<Figure size 360x360 with 1 Axes>"
      ]
     },
     "metadata": {
      "needs_background": "light"
     },
     "output_type": "display_data"
    }
   ],
   "source": [
    "# direct histograms\n",
    "for key in varplot:\n",
    "    # plotting settings\n",
    "    fig = plt.figure(figsize=(5, 5))\n",
    "    bins = np.linspace(min(df[key]), max(df[key]), 30)\n",
    "    # plot signal & backg\n",
    "    p = plt.hist([df[df['Label']==0][key],df[df['Label']==1][key]], bins=bins, stacked=True,label=['Backg','Signal'])\n",
    "    \n",
    "    # decorate\n",
    "    plt.xlabel(key)\n",
    "    plt.ylabel('Number of Events')\n",
    "    plt.legend()\n",
    "    plt.grid()\n",
    "    plt.plot()"
   ]
  },
  {
   "cell_type": "code",
   "execution_count": 15,
   "metadata": {},
   "outputs": [
    {
     "data": {
      "image/png": "[encoded data removed]",
      "text/plain": [
       "<Figure size 942.375x900 with 30 Axes>"
      ]
     },
     "metadata": {
      "needs_background": "light"
     },
     "output_type": "display_data"
    }
   ],
   "source": [
    "# plot only first 10k entries\n",
    "_ = sns.pairplot(df.iloc[:1000], hue='Label', vars=varplot) "
   ]
  },
  {
   "cell_type": "markdown",
   "metadata": {},
   "source": [
    "(The diagonal plot use _kernel density estimation_ to smear out data points in phase space and add up the result to obtain a smooth function.)"
   ]
  },
  {
   "cell_type": "markdown",
   "metadata": {},
   "source": [
    "### Further dataset preprocessing"
   ]
  },
  {
   "cell_type": "code",
   "execution_count": null,
   "metadata": {},
   "outputs": [],
   "source": [
    "# let's create separate arrays for ML models\n",
    "eventID = df['EventId']\n",
    "X = df.loc[:,'DER_mass_MMC':'PRI_jet_all_pt'] # features to train on\n",
    "y = df['Label'] # labels\n",
    "weight = df['Weight']"
   ]
  },
  {
   "cell_type": "code",
   "execution_count": null,
   "metadata": {},
   "outputs": [],
   "source": [
    "X.describe().T"
   ]
  },
  {
   "cell_type": "code",
   "execution_count": null,
   "metadata": {},
   "outputs": [],
   "source": [
    "X.columns"
   ]
  },
  {
   "cell_type": "code",
   "execution_count": null,
   "metadata": {},
   "outputs": [],
   "source": [
    "# now split data and weights into testing and training samples\n",
    "from sklearn.model_selection import train_test_split\n",
    "X_train, X_test, y_train, y_test, eventID_train, event_ID_test, weight_train, weight_test = train_test_split(\n",
    "    X, y, eventID, weight, test_size=0.33, random_state=42)"
   ]
  },
  {
   "cell_type": "markdown",
   "metadata": {},
   "source": [
    "## First ML trials w/ simple models\n",
    "1st attempt with simple models: GaussianNB and Logistic Regression\n",
    "* train\n",
    "* test\n",
    "* plot scores\n"
   ]
  },
  {
   "cell_type": "markdown",
   "metadata": {},
   "source": [
    "### GaussianNB"
   ]
  },
  {
   "cell_type": "code",
   "execution_count": null,
   "metadata": {},
   "outputs": [],
   "source": [
    "# GaussianNB (Gaussian Naive Bayes, assumes each class is drawn from an axis-aligned Gaussian distribution)\n",
    "from sklearn.naive_bayes import GaussianNB # 1. choose model class\n",
    "model = GaussianNB()                       # 2. instantiate model\n",
    "model.fit(X_train, y_train)                # 3. fit model to data\n",
    "gnb = model.predict(X_test)                # 4. predict on new data"
   ]
  },
  {
   "cell_type": "code",
   "execution_count": null,
   "metadata": {},
   "outputs": [],
   "source": [
    "model.score(X_test, y_test)"
   ]
  },
  {
   "cell_type": "code",
   "execution_count": null,
   "metadata": {},
   "outputs": [],
   "source": [
    "# define function to plot probability for sig/bg\n",
    "def plot_proba( df, model, x ):\n",
    "    df['Prob']=model.predict_proba(x)[:, 1]\n",
    "    kwargs = dict(histtype='stepfilled', alpha=0.3, density=True, bins=40)\n",
    "    df[df.Label==0].Prob.hist(label='Background',**kwargs)\n",
    "    df[df.Label==1].Prob.hist(label='Signal',**kwargs)\n",
    "    _=plt.legend()"
   ]
  },
  {
   "cell_type": "code",
   "execution_count": null,
   "metadata": {},
   "outputs": [],
   "source": [
    "plot_proba( df, model, X)"
   ]
  },
  {
   "cell_type": "markdown",
   "metadata": {},
   "source": [
    "###  Logistic Regression\n",
    "As next attempt, let's look at [logistic regression][1]. This is a very simple, linear model. In the exercises you can look at optimizing it a bit more.\n",
    "* logistic function: $f(x) = \\frac{1}{1+\\exp(-x)}$, $f(x): [-\\infty,\\infty] \\to [0,1]$\n",
    "* model: $y_i = f(x_i \\cdot \\beta) + \\epsilon_i$\n",
    "\n",
    "[1]: https://scikit-learn.org/stable/modules/linear_model.html#logistic-regression"
   ]
  },
  {
   "cell_type": "code",
   "execution_count": null,
   "metadata": {},
   "outputs": [],
   "source": [
    "from sklearn.linear_model import LogisticRegression"
   ]
  },
  {
   "cell_type": "code",
   "execution_count": null,
   "metadata": {},
   "outputs": [],
   "source": [
    "lr = LogisticRegression(solver = \"lbfgs\")"
   ]
  },
  {
   "cell_type": "markdown",
   "metadata": {},
   "source": [
    "(lbfgs = limited-memory BFGS, BFGS = Broyden–Fletcher–Goldfarb–Shanno algorithm, an iterative method for solving unconstrained nonlinear optimization problems)"
   ]
  },
  {
   "cell_type": "code",
   "execution_count": null,
   "metadata": {},
   "outputs": [],
   "source": [
    "# fit takes a few seconds...\n",
    "lr.fit(X_train, y_train)"
   ]
  },
  {
   "cell_type": "code",
   "execution_count": null,
   "metadata": {},
   "outputs": [],
   "source": [
    "lr.score(X_test,y_test)"
   ]
  },
  {
   "cell_type": "code",
   "execution_count": null,
   "metadata": {},
   "outputs": [],
   "source": [
    "# check prob dist\n",
    "plot_proba(df, lr, X)"
   ]
  },
  {
   "cell_type": "markdown",
   "metadata": {},
   "source": [
    "####  Logistic Regression - v2\n",
    "Now repeat but with fewer features"
   ]
  },
  {
   "cell_type": "code",
   "execution_count": null,
   "metadata": {},
   "outputs": [],
   "source": [
    "X_train.loc[:,:'DER_pt_tot'].columns"
   ]
  },
  {
   "cell_type": "code",
   "execution_count": null,
   "metadata": {},
   "outputs": [],
   "source": [
    "# Let's try using fewer features\n",
    "lr2 = LogisticRegression(solver = \"lbfgs\")"
   ]
  },
  {
   "cell_type": "code",
   "execution_count": null,
   "metadata": {},
   "outputs": [],
   "source": [
    "lr2.fit(X_train.loc[:,:'DER_pt_tot'], y_train)"
   ]
  },
  {
   "cell_type": "code",
   "execution_count": null,
   "metadata": {},
   "outputs": [],
   "source": [
    "lr2.score(X_test.loc[:,:'DER_pt_tot'], y_test)"
   ]
  },
  {
   "cell_type": "code",
   "execution_count": null,
   "metadata": {},
   "outputs": [],
   "source": [
    "# check prob dist\n",
    "plot_proba( df, lr2, X.loc[:,:'DER_pt_tot'])"
   ]
  },
  {
   "cell_type": "markdown",
   "metadata": {},
   "source": [
    "## More sophisticated model: GradientBoostingClassifier\n",
    "The [GradientBoostingClassifier][1] provides _gradient-boosted regression trees_. \n",
    "* ensemble method that combines multiple decision trees\n",
    "* \"forward stage-wise fashion: each tree tries to correct the mistakes of the previous one (steered by the `learning_rate`)\n",
    "* trees are simple (shallow), idea is to combine many \"weak learners\" \n",
    "  * each tree can only provide good predictions on part of the data, but combined they can yield a powerful model\n",
    "  \n",
    "[1]: https://scikit-learn.org/stable/modules/generated/sklearn.ensemble.GradientBoostingClassifier.html"
   ]
  },
  {
   "cell_type": "code",
   "execution_count": null,
   "metadata": {},
   "outputs": [],
   "source": [
    "# now let's define the model\n",
    "from sklearn.ensemble import GradientBoostingClassifier\n",
    "gbc = GradientBoostingClassifier(n_estimators=50, max_depth=10,\n",
    "                                    min_samples_leaf=200,\n",
    "                                    max_features=10, verbose=1)\n"
   ]
  },
  {
   "cell_type": "code",
   "execution_count": null,
   "metadata": {
    "scrolled": true
   },
   "outputs": [],
   "source": [
    "# fit takes several minutes... can look into AMS while it runs\n",
    "gbc.fit(X_train, y_train) # (and n_jobs is not supported)"
   ]
  },
  {
   "cell_type": "code",
   "execution_count": null,
   "metadata": {},
   "outputs": [],
   "source": [
    "gbc.score(X_test, y_test)"
   ]
  },
  {
   "cell_type": "code",
   "execution_count": null,
   "metadata": {},
   "outputs": [],
   "source": [
    "# check prob dist\n",
    "plot_proba(df, gbc, X)"
   ]
  },
  {
   "cell_type": "markdown",
   "metadata": {},
   "source": [
    "#### GBC also useful to judge/quantify importance of features"
   ]
  },
  {
   "cell_type": "code",
   "execution_count": null,
   "metadata": {},
   "outputs": [],
   "source": [
    "gbc.feature_importances_"
   ]
  },
  {
   "cell_type": "code",
   "execution_count": null,
   "metadata": {},
   "outputs": [],
   "source": [
    "for importance, key in sorted(zip(gbc.feature_importances_, X.keys())):\n",
    "    print (\"%30s %6.3f\" % (key, importance))\n"
   ]
  },
  {
   "cell_type": "markdown",
   "metadata": {},
   "source": [
    "## Figure-of-Merit: AMS\n",
    "Let's get back to the original problem using the GradientBoostingClassifier. The Kaggle competition used the approximate median significance ([AMS][1]), as defined below, to determine how good a solution was. \n",
    "The goal is to maximize signal and minimize background, and the AMS is an approximate formula to quantify the signal significance. The maximal AMS gives best signal significance. \n",
    "\n",
    "Note that if you do not use the full data set (i.e. you split into training and testing) you have to reweigh the inputs so that the subsample yield matches to the total yield, which we will do below.\n",
    "\n",
    "[1]: AMS.ipynb"
   ]
  },
  {
   "cell_type": "code",
   "execution_count": null,
   "metadata": {},
   "outputs": [],
   "source": [
    "# compute approximate median significance (AMS)\n",
    "def ams(s,b):\n",
    "    from math import sqrt,log\n",
    "    if b==0: # not really needed\n",
    "        return 0\n",
    "    # The number 10, added to the background yield, is a regularization term to decrease the variance of the AMS.\n",
    "    return sqrt(2*((s+b+10)*log(1+float(s)/(b+10))-s))"
   ]
  },
  {
   "cell_type": "code",
   "execution_count": null,
   "metadata": {},
   "outputs": [],
   "source": [
    "# Let's try a different probability cut, not the one given by default to predict().\n",
    "# We choose the top 20% (i.e. 20 % of unweighted events above pcut will be classified as signal), but can optimize\n",
    "y_train_prob = gbc.predict_proba(X_train)[:, 1]\n",
    "y_test_prob  = gbc.predict_proba(X_test)[:, 1]\n",
    "pcut = np.percentile(y_train_prob, 80) # NOTE: using y_train_prob here\n",
    "print(\"pcut of %f selects %.2f %%\" % (pcut, 100*len(y_train_prob[y_train_prob > pcut]) / len(y_train_prob)))"
   ]
  },
  {
   "cell_type": "markdown",
   "metadata": {},
   "source": [
    "**Now include the weights** to get proper normalization  "
   ]
  },
  {
   "cell_type": "code",
   "execution_count": null,
   "metadata": {},
   "outputs": [],
   "source": [
    "wgtsig  = df[df.Label==1].Weight\n",
    "wgtback = df[df.Label==0].Weight\n",
    "\n",
    "# the density argument makes this a normalized plot (otherwise wouldn't see the signal on linear scale)\n",
    "kwargs = dict(histtype='stepfilled', alpha=0.3, bins=40, density = True)\n",
    "\n",
    "df[df.Label==0].Prob.hist(label='Background', weights=wgtback, **kwargs)\n",
    "df[df.Label==1].Prob.hist(label='Signal', weights=wgtsig, **kwargs)\n",
    "_ = plt.legend()\n",
    "#plt.yscale('log') -- to try without density"
   ]
  },
  {
   "cell_type": "code",
   "execution_count": null,
   "metadata": {},
   "outputs": [],
   "source": [
    "# let's calculate the total weights (yields)\n",
    "sigall  = weight.dot(y == 1)\n",
    "backall = weight.dot(y == 0)\n",
    "\n",
    "# training-sample weights\n",
    "sigtrain  = weight_train.dot(y_train)\n",
    "backtrain = weight_train.dot(y_train == 0)\n",
    "\n",
    "# test-sample weights\n",
    "sigtest  = weight_test.dot(y_test)\n",
    "backtest = weight_test.dot(y_test == 0)\n",
    "\n",
    "# aside:  these can also be done by looping instead of using a dot product\n",
    "#  (Usually vectorized operations are faster for interpreted code)"
   ]
  },
  {
   "cell_type": "code",
   "execution_count": null,
   "metadata": {},
   "outputs": [],
   "source": [
    "print (\"All  :\", sigall, backall)\n",
    "print (\"Train:\", sigtrain, backtrain)\n",
    "print (\"Test :\", sigtest, backtest)"
   ]
  },
  {
   "cell_type": "code",
   "execution_count": null,
   "metadata": {},
   "outputs": [],
   "source": [
    "# Now let's look at event yields that pass our selection\n",
    "sigtrain_sel  = weight_train.dot(np.multiply(y_train     , y_train_prob > pcut))\n",
    "backtrain_sel = weight_train.dot(np.multiply(y_train == 0, y_train_prob > pcut))\n",
    "\n",
    "sigtest_sel  = weight_test.dot(np.multiply(y_test     , y_test_prob > pcut))\n",
    "backtest_sel = weight_test.dot(np.multiply(y_test == 0, y_test_prob > pcut))\n"
   ]
  },
  {
   "cell_type": "code",
   "execution_count": null,
   "metadata": {},
   "outputs": [],
   "source": [
    "# signal and background efficiency\n",
    "print (\"Train: eps_s = %f, eps_b = %f (eps_total: %f)\" % (sigtrain_sel / sigtrain, backtrain_sel / backtrain,\n",
    "                                                     (sigtrain_sel+backtrain_sel) / (sigtrain+backtrain)))\n",
    "print (\"Test : eps_s = %f, eps_b = %f\" % (sigtest_sel / sigtest, backtest_sel / backtest))"
   ]
  },
  {
   "cell_type": "code",
   "execution_count": null,
   "metadata": {},
   "outputs": [],
   "source": [
    "# Now we need to scale-up the selected yields to the (luminosity of the) original full sample\n",
    "sigtrain_sel_corr  = sigtrain_sel*sigall/sigtrain\n",
    "backtrain_sel_corr = backtrain_sel*backall/backtrain\n",
    "\n",
    "sigtest_sel_corr  = sigtest_sel*sigall/sigtest\n",
    "backtest_sel_corr = backtest_sel*backall/backtest\n",
    "\n",
    "print(\"Scaled selected yields in training sample, signal =\", sigtrain_sel_corr, \", background =\",backtrain_sel_corr)\n",
    "print(\"Scaled selected yields in test sample, signal =\", sigtest_sel_corr, \", background =\",backtest_sel_corr)\n"
   ]
  },
  {
   "cell_type": "markdown",
   "metadata": {},
   "source": [
    "## ROC curve"
   ]
  },
  {
   "cell_type": "code",
   "execution_count": null,
   "metadata": {
    "scrolled": true
   },
   "outputs": [],
   "source": [
    "from sklearn.metrics import roc_curve\n",
    "fpr, tpr, thresholds = roc_curve(y_test, gbc.predict_proba(X_test)[:, 1], sample_weight = weight_test)\n",
    "plt.plot(fpr, tpr, label=\"ROC Curve\")\n",
    "plt.xlabel(\"FPR\")\n",
    "plt.ylabel(\"TPR (recall)\")\n",
    "mark_threshold = pcut # mark selected threshold\n",
    "idx = np.argmin(np.abs(thresholds - mark_threshold))\n",
    "plt.plot(fpr[idx], tpr[idx], 'o', markersize=10, label=\"threshold %f\" % mark_threshold, fillstyle=\"none\", mew=2)\n",
    "_ = plt.legend(loc=4)"
   ]
  },
  {
   "cell_type": "markdown",
   "metadata": {},
   "source": [
    "* TPR = true positive rate = TP / (TP+FN) = TP / P (= recall)\n",
    "* FPR = false positive rate = FP / (FP+TN) = FP / N\n",
    "\n",
    "_Note_: As we have a lot more background than signal events, we typically want to choose a point with a very low false-positive rate. While we can use the ROC curve to compare different classifiers, a better performance measure is the AMS."
   ]
  },
  {
   "cell_type": "code",
   "execution_count": null,
   "metadata": {},
   "outputs": [],
   "source": [
    "print(\"AMS of training sample\", ams(sigtrain_sel_corr, backtrain_sel_corr))\n",
    "print(\"AMS of test sample\", ams(sigtest_sel_corr, backtest_sel_corr))"
   ]
  },
  {
   "cell_type": "markdown",
   "metadata": {},
   "source": [
    "## Create plot of AMS vs Pcut"
   ]
  },
  {
   "cell_type": "code",
   "execution_count": null,
   "metadata": {},
   "outputs": [],
   "source": [
    "# helper function to calculate AMS for different pcut\n",
    "def calc_ams(pcut):\n",
    "    sigtest_sel  = weight_test.dot(np.multiply(y_test     , y_test_prob > pcut))\n",
    "    backtest_sel = weight_test.dot(np.multiply(y_test == 0, y_test_prob > pcut))\n",
    "    sigtest_sel_corr  = sigtest_sel*sigall/sigtest\n",
    "    backtest_sel_corr = backtest_sel*backall/backtest\n",
    "    return(ams(sigtest_sel_corr, backtest_sel_corr))"
   ]
  },
  {
   "cell_type": "code",
   "execution_count": null,
   "metadata": {},
   "outputs": [],
   "source": [
    "# AMS plot\n",
    "xv=np.linspace(0.,0.99,50)\n",
    "yv=np.vectorize(calc_ams)(xv)\n",
    "plt.plot(xv,yv)\n",
    "plt.xlabel('Pcut') # x-axis\n",
    "plt.ylabel('AMS')# y-axis\n",
    "plt.grid(True)\n",
    "# mark chosen pcut\n",
    "idx = np.argmin(np.abs(xv - pcut))\n",
    "plt.plot(xv[idx], yv[idx], 'o', markersize=10, label=\"pcut\", fillstyle=\"none\", mew=2)\n",
    "_ = plt.legend()"
   ]
  },
  {
   "cell_type": "markdown",
   "metadata": {},
   "source": [
    "How did we do? Not too bad. Here are the scores of real submissions.\n",
    "![Comparison with submissions](figures/tr150908_davidRousseau_TMVAFuture_HiggsML.001.png)"
   ]
  },
  {
   "cell_type": "markdown",
   "metadata": {},
   "source": [
    "This is of course a bit of a simplification from a real physics analysis, where systematics often seem to take the most time. They are ignored here.\n",
    "![Comparison with real analysis](figures/tr140415_davidRousseau_Rome_Higgs_MVA_HiggsML.001.png)"
   ]
  },
  {
   "cell_type": "markdown",
   "metadata": {},
   "source": [
    "* _systematics_: systematic uncertainties on the event yields and BDT distributions, of experimental and theoretical origin (cf. section 11 in reference analysis)\n",
    "* _categories_: the reference analysis discriminates two production mechanisms of the Higgs boson, VBF (events with two characteristic jets from vector-boson fusion) and boosted (all other events, dominated by gluon fusion)\n",
    "* _embedded_: dominant Z→τ⁺τ⁻ background is taken from \"τ-embedded Z→μ⁺μ⁻ data\"\n",
    "* _anti tau_: revert some tau-identification criterion to create an \"anti(-ID) tau\" sample (used in \"fake-factor method\" to estimate background with objects misidentified as tau leptons)\n",
    "* _control regions_: phase-space regions enriched in (one type of) background process that allow to normalize a predicted background contribution to that observed in data\n",
    "* _tt_: background process, events with pair production of top quarks ($t\\bar t$)\n",
    "* _NP_: nuisance parameters (parameters of fit model that are not of physical interest but give it more flexibility to describe the data)\n",
    "* _TMVA_: [Toolkit for Multivariate Data Analysis with ROOT][1], a ROOT-integrated project providing an ML environment for multivariate classification and regression techniques\n",
    "\n",
    "[1]: https://root.cern.ch/tmva"
   ]
  },
  {
   "cell_type": "markdown",
   "metadata": {},
   "source": [
    "\n",
    "# Your tasks\n",
    "What to work on for the rest of the day:\n",
    "1. Look at the definition of the variables in the manual to get a rough feeling for what physics they encode.\n",
    "1. Attempt to calculate the AMS for the logistic regression cases.\n",
    "1. Do we overfit? Add plots to see.\n",
    "1. Which variables are important?\n",
    "1. Should we **[preprocess](http://scikit-learn.org/stable/modules/preprocessing.html)** the input data to be the same scale? Note that we have some -999 values that indicate the variable could not be calculated.\n",
    "1. We do not use the event weights in the training. Can they help? Note, that you don't want to just apply the weights as is since they will make background dominate over signal.\n",
    "1. The best scores in the Challenge all used cross-validation; if you have time, try to implement it."
   ]
  },
  {
   "cell_type": "markdown",
   "metadata": {},
   "source": [
    "*Later we will continue on this example with neural networks.*"
   ]
  }
 ],
 "metadata": {
  "anaconda-cloud": {},
  "kernelspec": {
   "display_name": "Python 2",
   "language": "python",
   "name": "python2"
  },
  "language_info": {
   "codemirror_mode": {
    "name": "ipython",
    "version": 3
   },
   "file_extension": ".py",
   "mimetype": "text/x-python",
   "name": "python",
   "nbconvert_exporter": "python",
   "pygments_lexer": "ipython3",
   "version": "3.7.3"
  },
  "toc": {
   "base_numbering": 1,
   "nav_menu": {},
   "number_sections": true,
   "sideBar": true,
   "skip_h1_title": false,
   "title_cell": "Table of Contents",
   "title_sidebar": "Contents",
   "toc_cell": false,
   "toc_position": {},
   "toc_section_display": true,
   "toc_window_display": false
  }
 },
 "nbformat": 4,
 "nbformat_minor": 2
}
